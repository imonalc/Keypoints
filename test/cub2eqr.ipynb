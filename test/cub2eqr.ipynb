{
 "cells": [
  {
   "cell_type": "code",
   "execution_count": 1,
   "metadata": {},
   "outputs": [],
   "source": [
    "from tqdm import tqdm\n",
    "import torch\n",
    "import cv2\n",
    "import numpy as np\n",
    "import math\n",
    "import matplotlib.pyplot as plt\n",
    "OUTPUT_DIR = \"./output/\""
   ]
  },
  {
   "cell_type": "code",
   "execution_count": null,
   "metadata": {},
   "outputs": [],
   "source": [
    "cube_img = cv2.imread(\"output/cube_map.png\")"
   ]
  },
  {
   "cell_type": "code",
   "execution_count": null,
   "metadata": {},
   "outputs": [],
   "source": [
    "def create_3dmap_from_size_torch(img_w, img_h, device):\n",
    "    # np.linspaceをtorch.linspaceに置き換え\n",
    "    h = torch.linspace(-np.pi/2, np.pi/2, img_h, device=device)\n",
    "    w = torch.linspace(-np.pi, np.pi, img_w, device=device)\n",
    "    \n",
    "    # オフセットの追加\n",
    "    h += (np.pi/2) / img_h\n",
    "    w += np.pi / img_w\n",
    "    \n",
    "    # np.meshgridをtorch.meshgridに置き換え\n",
    "    theta, phi = torch.meshgrid(w, h)\n",
    "    \n",
    "    # 3D座標の計算\n",
    "    x = torch.cos(phi) * torch.cos(theta)\n",
    "    y = torch.cos(phi) * torch.sin(theta)\n",
    "    z = torch.sin(phi)\n",
    "    \n",
    "    return x, y, z"
   ]
  },
  {
   "cell_type": "code",
   "execution_count": 2,
   "metadata": {},
   "outputs": [],
   "source": [
    "def padding_cube(img, device):\n",
    "    # Convert input numpy array to PyTorch tensor\n",
    "    img_tensor = torch.tensor(img).to(device).permute(0, 1, 2)\n",
    "    \n",
    "    h, w, c = img_tensor.shape\n",
    "    cw = w // 4\n",
    "    print(h, w, c)\n",
    "    \n",
    "    # Initialize canvas tensor\n",
    "    canvas = torch.zeros((h+4, w+4, c), dtype=img_tensor.dtype, device=device)\n",
    "    canvas[2:-2, 2:-2,:] = img_tensor\n",
    "    \n",
    "    # up    \n",
    "    canvas[0:2, cw+2:2*cw+2,:] = torch.rot90(img_tensor[cw:cw+2, 3*cw:,:], 2, [0,1])\n",
    "    # bottom\n",
    "    canvas[-2:, cw+2:2*cw+2,:] = torch.rot90(img_tensor[2*cw-2:2*cw, 3*cw:,:], 2, [0,1])\n",
    "    # left\n",
    "    canvas[cw+2:2*cw+2, 0:2,:] = img_tensor[cw:2*cw, -2:,:]\n",
    "    # right\n",
    "    canvas[cw+2:2*cw+2, -2:,:] = img_tensor[cw:2*cw, 0:2,:]\n",
    "\n",
    "    # Rotate and copy\n",
    "    canvas[cw:cw+2, :cw+2,:] = torch.rot90(canvas[:cw+2, cw+2:cw+4,:], 1, [0,1])\n",
    "    canvas[:cw+2, cw:cw+2,:] = torch.rot90(canvas[cw+2:cw+4, :cw+2,:], 3, [0,1])\n",
    "    canvas[2*cw+2:2*cw+4, :cw+2,:] = torch.rot90(canvas[2*cw+2:, cw+2:cw+4,:], 3, [0,1])\n",
    "    canvas[2*cw+2:, cw:cw+2,:] = torch.rot90(canvas[2*cw:2*cw+2, :cw+2,:], 1, [0,1])\n",
    "    canvas[cw:cw+2, 2*cw+2:3*cw+4,:] = torch.rot90(canvas[:cw+2, 2*cw:2*cw+2,:], 3, [0,1])\n",
    "    canvas[:cw+2, 2*cw+2:2*cw+4,:] = torch.rot90(canvas[cw+2:cw+4, 2*cw+2:3*cw+4,:], 1, [0,1])\n",
    "    canvas[2*cw+2:2*cw+4, 2*cw+2:3*cw+2,:] = torch.rot90(canvas[2*cw+2:-2, 2*cw:2*cw+2,:], 1, [0,1])\n",
    "    canvas[2*cw+2:, 2*cw+2:2*cw+4,:] = torch.rot90(canvas[2*cw:2*cw+2, 2*cw+2:3*cw+4,:], 3, [0,1])\n",
    "    \n",
    "    # Flip and copy\n",
    "    #canvas[cw:cw+2, 3*cw+2:,:] = torch.flip(canvas[3:1:-1, 2*cw+1:cw-1:-1,:], [0,1])\n",
    "    #canvas[2*cw+2:2*cw+4, 3*cw+2:,:] = torch.flip(canvas[-3:-5:-1, 2*cw+1:cw-1:-1,:], [0,1])\n",
    "    \n",
    "    # Convert the tensor back to a numpy array\n",
    "    return canvas.cpu().numpy()"
   ]
  },
  {
   "cell_type": "code",
   "execution_count": 3,
   "metadata": {},
   "outputs": [
    {
     "data": {
      "text/plain": [
       "numpy.ndarray"
      ]
     },
     "execution_count": 3,
     "metadata": {},
     "output_type": "execute_result"
    }
   ],
   "source": [
    "def cube_to_equirectangular_torch(img, width, device):\n",
    "    # imgをテンソルに変換\n",
    "    img_tensor = torch.tensor(img, device=device).float()\n",
    "\n",
    "    img_w = width\n",
    "    img_h = width // 2\n",
    "    width = img.shape[1] // 4\n",
    "\n",
    "    x, y, z = create_3dmap_from_size_torch(img_w, img_h, device)\n",
    "\n",
    "    w = 0.5\n",
    "\n",
    "    # front\n",
    "    xx = w*y / x + w\n",
    "    yy = w*z / x + w    \n",
    "    mask = (xx > 0) & (xx < 1) & (yy > 0) & (yy < 1) & (x > 0)\n",
    "    tmpx = torch.where(mask, xx*width + width, 0)\n",
    "    tmpy = torch.where(mask, yy*width + width, 0)\n",
    "     \n",
    "    # back\n",
    "    xx = w*y / x + w\n",
    "    yy = -w*z / x + w    \n",
    "    mask = (xx > 0) & (xx < 1) & (yy > 0) & (yy < 1) & (x < 0)\n",
    "    tmpx = torch.where(mask, xx*width + width*3, tmpx)\n",
    "    tmpy = torch.where(mask, yy*width + width, tmpy)\n",
    "     \n",
    "    #right\n",
    "    xx = -w*x / y + w\n",
    "    yy = w*z / y + w    \n",
    "    mask = (xx > 0) & (xx < 1) & (yy > 0) & (yy < 1) & (y > 0)\n",
    "    tmpx = torch.where(mask, xx*width + width*2, tmpx)\n",
    "    tmpy = torch.where(mask, yy*width + width, tmpy)\n",
    "     \n",
    "    #left\n",
    "    xx = -w*x / y + w\n",
    "    yy = -w*z / y + w    \n",
    "    mask = (xx > 0) & (xx < 1) & (yy > 0) & (yy < 1) & (y < 0)\n",
    "    tmpx = torch.where(mask, xx*width, tmpx)\n",
    "    tmpy = torch.where(mask, yy*width + width, tmpy)\n",
    "     \n",
    "    #up\n",
    "    xx = -w*y / z + w\n",
    "    yy = -w*x / z + w    \n",
    "    mask = (xx > 0) & (xx < 1) & (yy > 0) & (yy < 1) & (z < 0)\n",
    "    tmpx = torch.where(mask, xx*width + width, tmpx)\n",
    "    tmpy = torch.where(mask, yy*width, tmpy)\n",
    "     \n",
    "    #bottom\n",
    "    xx = w*y / z + w\n",
    "    yy = -w*x / z + w    \n",
    "    mask = (xx > 0) & (xx < 1) & (yy > 0) & (yy < 1) & (z > 0)\n",
    "    tmpx = torch.where(mask, xx*width + width, tmpx)\n",
    "    tmpy = torch.where(mask, yy*width + width*2, tmpy)\n",
    "\n",
    "    cube = padding_cube(img, device)\n",
    "    print(cube.shape, type(cube))\n",
    "\n",
    "    # grid_sampleを使うための座標の変換\n",
    "    grid = torch.stack((2*y/img_h - 1, 2*x/img_w - 1), dim=-1)\n",
    "    grid = grid.unsqueeze(0)  # バッチ次元の追加\n",
    "\n",
    "    # チャンネルの次元を先頭に移動\n",
    "    #cube = cube.permute(2, 0, 1).unsqueeze(0)\n",
    "    cube = torch.tensor(cube, device=device).permute(2, 0, 1).float().cpu().numpy().astype(np.float32)\n",
    "\n",
    "    # grid_sampleを使用してリマップ\n",
    "    output = cv2.remap(cube, tmpx.cpu().numpy().astype(np.float32), tmpy.cpu().numpy().astype(np.float32), interpolation=cv2.INTER_LINEAR)\n",
    "\n",
    "    return output"
   ]
  },
  {
   "cell_type": "code",
   "execution_count": 4,
   "metadata": {},
   "outputs": [],
   "source": [
    "immm = cube_to_equirectangular_torch(cube_img, 1920*2, device)"
   ]
  },
  {
   "cell_type": "code",
   "execution_count": 5,
   "metadata": {},
   "outputs": [
    {
     "name": "stdout",
     "output_type": "stream",
     "text": [
      "torch.Size([6, 3, 1560, 1560])\n"
     ]
    }
   ],
   "source": [
    "cv2.imwrite(\"eq2.jpg\", immm)"
   ]
  },
  {
   "cell_type": "code",
   "execution_count": null,
   "metadata": {},
   "outputs": [],
   "source": []
  },
  {
   "cell_type": "code",
   "execution_count": null,
   "metadata": {},
   "outputs": [],
   "source": []
  },
  {
   "cell_type": "code",
   "execution_count": null,
   "metadata": {},
   "outputs": [],
   "source": []
  }
 ],
 "metadata": {
  "kernelspec": {
   "display_name": "cubep",
   "language": "python",
   "name": "python3"
  },
  "language_info": {
   "codemirror_mode": {
    "name": "ipython",
    "version": 3
   },
   "file_extension": ".py",
   "mimetype": "text/x-python",
   "name": "python",
   "nbconvert_exporter": "python",
   "pygments_lexer": "ipython3",
   "version": "3.8.18"
  },
  "orig_nbformat": 4
 },
 "nbformat": 4,
 "nbformat_minor": 2
}
