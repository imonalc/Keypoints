{
 "cells": [
  {
   "cell_type": "code",
   "execution_count": 20,
   "metadata": {},
   "outputs": [],
   "source": [
    "import torch\n",
    "import torch.nn.functional as F\n",
    "from spherical_distortion.functional import create_tangent_images, unresample\n",
    "from spherical_distortion.util import *\n",
    "import matplotlib.pyplot as plt\n",
    "from skimage import io\n",
    "import os\n",
    "\n",
    "import numpy as np\n",
    "import _spherical_distortion_ext._mesh as _mesh\n",
    "import argparse\n",
    "sys.path.append('/home/imonalc/Keypoints/')\n",
    "from utils.eqr2cub import *\n",
    "from utils.cub2eqr import *"
   ]
  },
  {
   "cell_type": "code",
   "execution_count": 21,
   "metadata": {},
   "outputs": [],
   "source": [
    "image_path = \"O.jpg\"\n",
    "img = cv2.imread(image_path)"
   ]
  },
  {
   "cell_type": "code",
   "execution_count": 48,
   "metadata": {},
   "outputs": [
    {
     "name": "stdout",
     "output_type": "stream",
     "text": [
      "960 2020 0 1060\n"
     ]
    }
   ],
   "source": [
    "pad_w = 50\n",
    "device = torch.device(\"cuda\" if torch.cuda.is_available() else \"cpu\")\n",
    "[back_img, bottom_img, front_img, left_img, right_img, top_img], cube_w = create_cube_imgs(img)\n",
    "cube_map_img = create_cube_map(back_img, bottom_img, front_img, left_img, right_img, top_img, cube_w)\n",
    "cube_pad_img = padding_cube(cube_map_img, pad_w, device)\n",
    "# 各面のサイズを960x960とする\n",
    "face_size = 960\n",
    "# 面をクロップ\n",
    "#print(cube_pad_img.shape)\n",
    "print(face_size, 2*face_size+pad_w*2, 0, face_size+pad_w*2)\n",
    "top_face = cube_pad_img.clone()[:face_size+pad_w*2, face_size:2*face_size+pad_w*2,:]\n",
    "#left_face = cube_pad_img.clone()[0:face_size+pad_w*2, face_size:2*face_size+pad_w*2, :]\n",
    "#front_face = cube_pad_img.clone()[face_size:2*face_size+pad_w*2, face_size:2*face_size+pad_w*2, :]\n",
    "#right_face = cube_pad_img.clone()[2*face_size:3*face_size+pad_w*2, face_size:2*face_size+pad_w*2, :]\n",
    "#bottom_face = cube_pad_img.clone()[face_size:2*face_size+pad_w*2, 2*face_size:3*face_size+pad_w*2, :]\n",
    "#back_face = cube_pad_img.clone()[3*face_size:4*face_size+pad_w*2, face_size:2*face_size+pad_w*2, :]"
   ]
  },
  {
   "cell_type": "code",
   "execution_count": 49,
   "metadata": {},
   "outputs": [
    {
     "name": "stdout",
     "output_type": "stream",
     "text": [
      "<class 'torch.Tensor'> torch.Size([2980, 3940, 3])\n"
     ]
    }
   ],
   "source": [
    "print(type(cube_pad_img), cube_pad_img.shape)"
   ]
  },
  {
   "cell_type": "code",
   "execution_count": 53,
   "metadata": {},
   "outputs": [
    {
     "data": {
      "text/plain": [
       "True"
      ]
     },
     "execution_count": 53,
     "metadata": {},
     "output_type": "execute_result"
    }
   ],
   "source": [
    "cv2.imwrite(\"aaa.png\", cube_pad_img.cpu().numpy())\n",
    "#cv2.imwrite(\"aaa.png\", top_face.cpu().numpy())"
   ]
  },
  {
   "cell_type": "code",
   "execution_count": null,
   "metadata": {},
   "outputs": [],
   "source": []
  }
 ],
 "metadata": {
  "kernelspec": {
   "display_name": "keyALIKE",
   "language": "python",
   "name": "python3"
  },
  "language_info": {
   "codemirror_mode": {
    "name": "ipython",
    "version": 3
   },
   "file_extension": ".py",
   "mimetype": "text/x-python",
   "name": "python",
   "nbconvert_exporter": "python",
   "pygments_lexer": "ipython3",
   "version": "3.7.16"
  },
  "orig_nbformat": 4
 },
 "nbformat": 4,
 "nbformat_minor": 2
}
