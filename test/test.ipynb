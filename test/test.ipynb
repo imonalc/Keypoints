{
 "cells": [
  {
   "cell_type": "code",
   "execution_count": 1,
   "metadata": {},
   "outputs": [],
   "source": [
    "import torch\n",
    "import torch.nn.functional as F\n",
    "from spherical_distortion.functional import create_tangent_images, unresample\n",
    "from spherical_distortion.util import *\n",
    "import matplotlib.pyplot as plt\n",
    "from skimage import io\n",
    "import os\n",
    "\n",
    "import numpy as np\n",
    "import _spherical_distortion_ext._mesh as _mesh\n",
    "import argparse\n",
    "sys.path.append('/home/imonalc/Keypoints/')\n",
    "from utils.eqr2cub import *\n",
    "from utils.cub2eqr import *"
   ]
  },
  {
   "cell_type": "code",
   "execution_count": 2,
   "metadata": {},
   "outputs": [],
   "source": [
    "device = torch.device(\"cuda\" if torch.cuda.is_available() else \"cpu\")\n",
    "\n",
    "def get_theta_torch(x, y):\n",
    "    theta = torch.where(y < 0, (-1) * torch.atan2(y, x), 2 * math.pi - torch.atan2(y, x))\n",
    "    return theta"
   ]
  },
  {
   "cell_type": "code",
   "execution_count": 6,
   "metadata": {},
   "outputs": [],
   "source": [
    "img = cv2.imread(\"O.png\")\n",
    "input_h, input_w, _ = img.shape\n",
    "output_sqr = int(input_w / 4)\n",
    "normalized_f = 1"
   ]
  },
  {
   "cell_type": "code",
   "execution_count": 8,
   "metadata": {},
   "outputs": [
    {
     "name": "stdout",
     "output_type": "stream",
     "text": [
      "torch.Size([256, 256]) tensor(128., device='cuda:0')\n",
      "torch.Size([256, 256]) tensor(-128., device='cuda:0')\n"
     ]
    }
   ],
   "source": [
    "[back_img, bottom_img, front_img, left_img, right_img, top_img], cube_w = create_cube_imgs(img)"
   ]
  },
  {
   "cell_type": "code",
   "execution_count": 9,
   "metadata": {},
   "outputs": [],
   "source": [
    "cube_map_img = create_cube_map(back_img, bottom_img, front_img, left_img, right_img, top_img, cube_w)"
   ]
  },
  {
   "cell_type": "code",
   "execution_count": 10,
   "metadata": {},
   "outputs": [
    {
     "data": {
      "text/plain": [
       "True"
      ]
     },
     "execution_count": 10,
     "metadata": {},
     "output_type": "execute_result"
    }
   ],
   "source": [
    "cv2.imwrite(\"top.png\", top_img)\n",
    "cv2.imwrite(\"front.png\", front_img)\n",
    "cv2.imwrite(\"back.png\", back_img)\n",
    "cv2.imwrite(\"left.png\", left_img)\n",
    "cv2.imwrite(\"right.png\", right_img)\n",
    "cv2.imwrite(\"bottom.png\", bottom_img)\n",
    "cv2.imwrite(\"cubemap.png\", cube_map_img)"
   ]
  },
  {
   "cell_type": "code",
   "execution_count": null,
   "metadata": {},
   "outputs": [],
   "source": []
  },
  {
   "cell_type": "code",
   "execution_count": null,
   "metadata": {},
   "outputs": [],
   "source": []
  }
 ],
 "metadata": {
  "kernelspec": {
   "display_name": "keyALIKE",
   "language": "python",
   "name": "python3"
  },
  "language_info": {
   "codemirror_mode": {
    "name": "ipython",
    "version": 3
   },
   "file_extension": ".py",
   "mimetype": "text/x-python",
   "name": "python",
   "nbconvert_exporter": "python",
   "pygments_lexer": "ipython3",
   "version": "3.7.16"
  },
  "orig_nbformat": 4
 },
 "nbformat": 4,
 "nbformat_minor": 2
}
