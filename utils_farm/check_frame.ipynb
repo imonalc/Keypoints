{
 "cells": [
  {
   "cell_type": "code",
   "execution_count": 131,
   "metadata": {},
   "outputs": [],
   "source": [
    "import cv2\n",
    "import os\n",
    "import argparse\n",
    "\n",
    "def show_frame_at(video_path, frame_number):\n",
    "    \"\"\"\n",
    "    特定のフレーム番号でビデオのフレームを表示します。\n",
    "    :param video_path: ビデオファイルへのパス\n",
    "    :param frame_number: 表示するフレームの番号\n",
    "    \"\"\"\n",
    "    # 動画ファイルを開く\n",
    "    video_capture = cv2.VideoCapture(video_path)\n",
    "    \n",
    "    # 特定のフレームに移動\n",
    "    video_capture.set(cv2.CAP_PROP_POS_FRAMES, frame_number)\n",
    "    \n",
    "    # フレームを読み込む\n",
    "    ret, frame = video_capture.read()\n",
    "    \n",
    "    if not ret:\n",
    "        print(\"フレームが見つかりません。\")\n",
    "        video_capture.release()\n",
    "        return\n",
    "    \n",
    "    # フレームを表示\n",
    "    resized_frame = cv2.resize(frame, (1024, 512))\n",
    "    cv2.imshow(\"Frame\", resized_frame)\n",
    "    cv2.waitKey(0)\n",
    "    cv2.destroyAllWindows()\n",
    "    \n",
    "    # メモリを解放し、ファイルを閉じる\n",
    "    video_capture.release()"
   ]
  },
  {
   "cell_type": "code",
   "execution_count": 132,
   "metadata": {},
   "outputs": [],
   "source": [
    "pose = \"pose5\""
   ]
  },
  {
   "cell_type": "code",
   "execution_count": 136,
   "metadata": {},
   "outputs": [],
   "source": [
    "frame_number = 100  # 表示したいフレーム番号 271\n",
    "video_path = os.path.join(\"./data/Farm/new\", pose, \"O.MP4\")\n",
    "show_frame_at(video_path, frame_number)"
   ]
  },
  {
   "cell_type": "code",
   "execution_count": 137,
   "metadata": {},
   "outputs": [],
   "source": [
    "frame_number = 90  # 表示したいフレーム番号\n",
    "video_path = os.path.join(\"./data/Farm/new\", pose , \"R.MP4\")\n",
    "show_frame_at(video_path, frame_number)"
   ]
  },
  {
   "cell_type": "code",
   "execution_count": 138,
   "metadata": {},
   "outputs": [],
   "source": [
    "frame_number = 1000  # 表示したいフレーム番号\n",
    "video_path = os.path.join(\"./data/Farm/new\", pose , \"O.MP4\")\n",
    "show_frame_at(video_path, frame_number)"
   ]
  },
  {
   "cell_type": "code",
   "execution_count": 139,
   "metadata": {},
   "outputs": [],
   "source": [
    "frame_number = 5000  # 表示したいフレーム番号\n",
    "video_path = os.path.join(\"./data/Farm/new\", pose, \"O.MP4\")\n",
    "show_frame_at(video_path, frame_number)"
   ]
  },
  {
   "cell_type": "code",
   "execution_count": null,
   "metadata": {},
   "outputs": [],
   "source": []
  },
  {
   "cell_type": "code",
   "execution_count": 13,
   "metadata": {},
   "outputs": [],
   "source": [
    "def extract_frames(input_video_path, output_video_path, start_frame, end_frame, new_width=1024, new_height=512):\n",
    "    # 動画ファイルを開く\n",
    "    cap = cv2.VideoCapture(input_video_path)\n",
    "    if not cap.isOpened():\n",
    "        raise ValueError(\"動画ファイルを開けませんでした。\")\n",
    "\n",
    "    # フレームレートと出力の設定\n",
    "    fps = cap.get(cv2.CAP_PROP_FPS)\n",
    "    fourcc = cv2.VideoWriter_fourcc(*'mp4v')\n",
    "    out = cv2.VideoWriter(output_video_path, fourcc, fps, (new_width, new_height))\n",
    "\n",
    "    # 切り出すフレームの範囲を確認\n",
    "    current_frame = 0\n",
    "    while True:\n",
    "        ret, frame = cap.read()\n",
    "        if not ret or current_frame > end_frame:\n",
    "            break\n",
    "        if start_frame <= current_frame <= end_frame:\n",
    "            resized_frame = cv2.resize(frame, (new_width, new_height))\n",
    "            out.write(resized_frame)\n",
    "        current_frame += 1\n",
    "\n",
    "    # リソースを解放\n",
    "    cap.release()\n",
    "    out.release()"
   ]
  },
  {
   "cell_type": "code",
   "execution_count": 141,
   "metadata": {},
   "outputs": [],
   "source": [
    "input_video_path = os.path.join(\"./data/Farm/new\", pose, \"R.MP4\")\n",
    "output_video_path = os.path.join(\"./data/Farm/new\", pose , \"R2.MP4\")\n",
    "start_frame = 1000-10\n",
    "end_frame = 5000-10\n",
    "\n",
    "extract_frames(input_video_path, output_video_path, start_frame, end_frame)"
   ]
  },
  {
   "cell_type": "code",
   "execution_count": null,
   "metadata": {},
   "outputs": [],
   "source": []
  },
  {
   "cell_type": "code",
   "execution_count": null,
   "metadata": {},
   "outputs": [],
   "source": []
  }
 ],
 "metadata": {
  "kernelspec": {
   "display_name": "Python 3",
   "language": "python",
   "name": "python3"
  },
  "language_info": {
   "codemirror_mode": {
    "name": "ipython",
    "version": 3
   },
   "file_extension": ".py",
   "mimetype": "text/x-python",
   "name": "python",
   "nbconvert_exporter": "python",
   "pygments_lexer": "ipython3",
   "version": "3.7.16"
  }
 },
 "nbformat": 4,
 "nbformat_minor": 2
}
