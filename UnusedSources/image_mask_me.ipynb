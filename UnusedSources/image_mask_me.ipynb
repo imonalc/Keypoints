{
 "cells": [
  {
   "cell_type": "code",
   "execution_count": 10,
   "metadata": {},
   "outputs": [],
   "source": [
    "import cv2\n",
    "import numpy as np\n",
    "\n",
    "def blacken_edges(image_path, output_path):\n",
    "    # 画像を読み込む\n",
    "    img = cv2.imread(image_path)\n",
    "\n",
    "    # 画像の高さと幅を取得\n",
    "    height, width, _ = img.shape\n",
    "\n",
    "    # 両端を黒くする幅を計算\n",
    "    edge_width = width // 10\n",
    "\n",
    "    # 下部を黒くする高さを計算\n",
    "    bottom_height = height // 6\n",
    "\n",
    "    # 両端を黒くする\n",
    "    img[:, :edge_width] = 255  # 左端\n",
    "    img[:, -edge_width:] = 255  # 右端\n",
    "\n",
    "    # 下部を黒くする\n",
    "    img[-bottom_height:, :] = 255\n",
    "\n",
    "    # 画像を保存\n",
    "    cv2.imwrite(output_path, img)"
   ]
  },
  {
   "cell_type": "code",
   "execution_count": 12,
   "metadata": {},
   "outputs": [],
   "source": [
    "# 使用例\n",
    "image_path = './FFarm/R.png'\n",
    "output_path = './FFarm/RB.png'\n",
    "blacken_edges(image_path, output_path)"
   ]
  },
  {
   "cell_type": "code",
   "execution_count": null,
   "metadata": {},
   "outputs": [],
   "source": []
  }
 ],
 "metadata": {
  "kernelspec": {
   "display_name": "keyALIKE",
   "language": "python",
   "name": "python3"
  },
  "language_info": {
   "codemirror_mode": {
    "name": "ipython",
    "version": 3
   },
   "file_extension": ".py",
   "mimetype": "text/x-python",
   "name": "python",
   "nbconvert_exporter": "python",
   "pygments_lexer": "ipython3",
   "version": "3.7.16"
  }
 },
 "nbformat": 4,
 "nbformat_minor": 2
}
