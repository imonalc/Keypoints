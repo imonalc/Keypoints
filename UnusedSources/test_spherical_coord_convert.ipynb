{
 "cells": [
  {
   "cell_type": "code",
   "execution_count": 5,
   "metadata": {},
   "outputs": [],
   "source": [
    "import torch\n",
    "import numpy as np\n",
    "import cv2\n",
    "device = 'cuda:0'"
   ]
  },
  {
   "cell_type": "code",
   "execution_count": 6,
   "metadata": {},
   "outputs": [],
   "source": [
    "def rotate_yaw(x, y, z, rot):\n",
    "    xx = x * np.cos(rot) - y * np.sin(rot)\n",
    "    yy = x * np.sin(rot) + y * np.cos(rot)\n",
    "    zz = z\n",
    "\n",
    "    return xx, yy, zz\n",
    "\n",
    "def rotate_roll(x, y, z, rot):\n",
    "    xx = x\n",
    "    yy = y * np.cos(rot) - z * np.sin(rot)\n",
    "    zz = y * np.sin(rot) + z * np.cos(rot)\n",
    "\n",
    "    return xx, yy, zz\n",
    "\n",
    "def rotate_pitch(x, y, z, rot):\n",
    "    xx = x * np.cos(rot) + z * np.sin(rot)\n",
    "    yy = y\n",
    "    zz = -x * np.sin(rot) + z * np.cos(rot)\n",
    "\n",
    "    return xx, yy, zz"
   ]
  },
  {
   "cell_type": "code",
   "execution_count": 7,
   "metadata": {},
   "outputs": [
    {
     "data": {
      "text/plain": [
       "True"
      ]
     },
     "execution_count": 7,
     "metadata": {},
     "output_type": "execute_result"
    }
   ],
   "source": [
    "import cv2\n",
    "import numpy as np\n",
    "\n",
    "# 画像の読み込み\n",
    "img = cv2.imread(\"./data/data_100/Room/0/O.png\")\n",
    "h, w = img.shape[:2]\n",
    "\n",
    "w_half = int(w / 2)\n",
    "h_half = int(h / 2)\n",
    "\n",
    "# メッシュグリッドの生成\n",
    "phi, theta = np.meshgrid(np.linspace(-np.pi, np.pi, w_half*2),\n",
    "                         np.linspace(-np.pi/2, np.pi/2, h_half*2))\n",
    "\n",
    "\n",
    "# 球面座標\n",
    "x = np.cos(theta) * np.cos(phi)\n",
    "y = np.cos(theta) * np.sin(phi)\n",
    "z = np.sin(theta)\n",
    "\n",
    "# z軸周りにπ/2ラジアン回転\n",
    "rad = np.pi / 2\n",
    "xx, yy, zz = rotate_yaw(x, y, z, rad)\n",
    "xx, yy, zz = rotate_pitch(xx, yy, zz, rad)\n",
    "xx, yy, zz = rotate_yaw(xx, yy, zz, rad)\n",
    "\n",
    "# 逆球面座標変換\n",
    "theta = np.arcsin(zz)\n",
    "phi = np.arctan2(yy, xx)\n",
    "\n",
    "# 画像座標へのマッピング\n",
    "Y = 2*theta / np.pi * h_half + h_half\n",
    "X = phi / np.pi * w_half + w_half\n",
    "\n",
    "# 画像のリマッピングと保存\n",
    "out = cv2.remap(img, X.astype(np.float32), Y.astype(np.float32), cv2.INTER_LINEAR, borderMode=cv2.BORDER_WRAP)\n",
    "cv2.imwrite(\"dst.png\", out)\n"
   ]
  },
  {
   "cell_type": "code",
   "execution_count": 8,
   "metadata": {},
   "outputs": [],
   "source": [
    "def spherical_to_cartesian(phi, theta):\n",
    "    x = np.cos(theta) * np.cos(phi)\n",
    "    y = np.cos(theta) * np.sin(phi)\n",
    "    z = np.sin(theta)\n",
    "    return x, y, z\n",
    "\n",
    "def rotate_coordinates(x, y, z, angle=np.pi/2):\n",
    "    xx = x * np.cos(angle) + z * np.sin(angle)\n",
    "    yy = y\n",
    "    zz = -x * np.sin(angle) + z * np.cos(angle)\n",
    "    return xx, yy, zz\n",
    "\n",
    "def cartesian_to_spherical(x, y, z):\n",
    "    theta = np.arcsin(z)\n",
    "    phi = np.arctan2(y, x)\n",
    "    return phi, theta"
   ]
  },
  {
   "cell_type": "code",
   "execution_count": null,
   "metadata": {},
   "outputs": [],
   "source": []
  },
  {
   "cell_type": "code",
   "execution_count": 9,
   "metadata": {},
   "outputs": [],
   "source": [
    "def convert_coordinate(input_xy, image_size_hw):\n",
    "    h, w = image_size_hw\n",
    "    w_half = w / 2\n",
    "    h_half = h / 2\n",
    "    \n",
    "    phi = (input_xy[0] - w_half) * np.pi * 2 /w\n",
    "    theta = (input_xy[1] - h_half) * np.pi /h\n",
    "    \n",
    "    x, y, z = spherical_to_cartesian(phi, theta)\n",
    "    rad = -np.pi / 2\n",
    "    xx, yy, zz = rotate_yaw(x, y, z, rad)\n",
    "    xx, yy, zz = rotate_pitch(xx, yy, zz, rad)\n",
    "    xx, yy, zz = rotate_yaw(xx, yy, zz, rad)\n",
    "    new_phi, new_theta = cartesian_to_spherical(xx, yy, zz)\n",
    "\n",
    "    new_y = 2*new_theta * h_half / np.pi + h_half\n",
    "    new_x = new_phi * w_half / np.pi + w_half\n",
    "    \n",
    "    return new_x, new_y"
   ]
  },
  {
   "cell_type": "code",
   "execution_count": 15,
   "metadata": {},
   "outputs": [],
   "source": [
    "img = cv2.imread(\"./data/data_100/Room/0/O2.png\")\n",
    "image_size = (512, 1024)\n",
    "\n",
    "# 点の位置\n",
    "position = (784, 368)\n",
    "position3 = (255, 400)\n",
    "# 点の色（BGR形式）\n",
    "color = (0, 0, 255)  # 緑色\n",
    "\n",
    "# 点を描画\n",
    "cv2.drawMarker(img, position, color, markerType=cv2.MARKER_CROSS, markerSize=40, thickness=2, line_type=cv2.LINE_AA)\n",
    "cv2.drawMarker(img, position3, color, markerType=cv2.MARKER_CROSS, markerSize=40, thickness=2, line_type=cv2.LINE_AA)\n",
    "cv2.imshow('Image with a marker', img)\n",
    "cv2.waitKey(0)\n",
    "cv2.destroyAllWindows()"
   ]
  },
  {
   "cell_type": "code",
   "execution_count": 14,
   "metadata": {},
   "outputs": [],
   "source": [
    "img2 = cv2.imread(\"./data/data_100/Room/0/O.png\")\n",
    "\n",
    "# 点の位置\n",
    "position2 = convert_coordinate(position, image_size)\n",
    "position2 = (int(position2[0]), int(position2[1]))\n",
    "position32 = convert_coordinate(position3, image_size)\n",
    "position32 = (int(position32[0]), int(position32[1]))\n",
    "\n",
    "# 点の色（BGR形式）\n",
    "color = (0, 0, 255)  # 緑色\n",
    "\n",
    "# 点を描画\n",
    "cv2.drawMarker(img2, position2, color, markerType=cv2.MARKER_CROSS, markerSize=40, thickness=2, line_type=cv2.LINE_AA)\n",
    "cv2.drawMarker(img2, position32, color, markerType=cv2.MARKER_CROSS, markerSize=40, thickness=2, line_type=cv2.LINE_AA)\n",
    "cv2.imshow('Image with a marker', img2)\n",
    "cv2.waitKey(0)\n",
    "cv2.destroyAllWindows()"
   ]
  },
  {
   "cell_type": "code",
   "execution_count": 21,
   "metadata": {},
   "outputs": [
    {
     "name": "stdout",
     "output_type": "stream",
     "text": [
      "(748, 399)\n"
     ]
    }
   ],
   "source": [
    "print(position2)"
   ]
  },
  {
   "cell_type": "code",
   "execution_count": null,
   "metadata": {},
   "outputs": [],
   "source": []
  },
  {
   "cell_type": "code",
   "execution_count": 130,
   "metadata": {},
   "outputs": [
    {
     "data": {
      "text/plain": [
       "True"
      ]
     },
     "execution_count": 130,
     "metadata": {},
     "output_type": "execute_result"
    }
   ],
   "source": [
    "img = cv2.imread(\"./O.png\")\n",
    "h, w = img.shape[:2]\n",
    "\n",
    "w_half = int(w / 2)\n",
    "h_half = int(h / 2)\n",
    "\n",
    "# メッシュグリッドの生成\n",
    "phi, theta = np.meshgrid(np.linspace(-np.pi, np.pi, w_half*2),\n",
    "                         np.linspace(-np.pi/2, np.pi/2, h_half*2))\n",
    "\n",
    "\n",
    "# 球面座標\n",
    "x = np.cos(theta) * np.cos(phi)\n",
    "y = np.cos(theta) * np.sin(phi)\n",
    "z = np.sin(theta)\n",
    "\n",
    "# z軸周りにπ/2ラジアン回転\n",
    "rot = np.pi / 2\n",
    "xx = x * np.cos(rot) + z * np.sin(rot)\n",
    "yy = y\n",
    "zz = -x * np.sin(rot) + z * np.cos(rot)\n",
    "\n",
    "# 逆球面座標変換\n",
    "theta = np.arcsin(zz)\n",
    "phi = np.arctan2(yy, xx)\n",
    "\n",
    "# 画像座標へのマッピング\n",
    "Y = 2*theta / np.pi * h_half + h_half\n",
    "X = phi / np.pi * w_half + w_half\n",
    "\n",
    "# 画像のリマッピングと保存\n",
    "out = cv2.remap(img, X.astype(np.float32), Y.astype(np.float32), cv2.INTER_LINEAR, borderMode=cv2.BORDER_WRAP)\n",
    "cv2.imwrite(\"dst.png\", out)"
   ]
  },
  {
   "cell_type": "code",
   "execution_count": null,
   "metadata": {},
   "outputs": [],
   "source": []
  }
 ],
 "metadata": {
  "kernelspec": {
   "display_name": "keypoints",
   "language": "python",
   "name": "python3"
  },
  "language_info": {
   "codemirror_mode": {
    "name": "ipython",
    "version": 3
   },
   "file_extension": ".py",
   "mimetype": "text/x-python",
   "name": "python",
   "nbconvert_exporter": "python",
   "pygments_lexer": "ipython3",
   "version": "3.7.16"
  }
 },
 "nbformat": 4,
 "nbformat_minor": 2
}
