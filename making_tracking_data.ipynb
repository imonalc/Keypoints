{
 "cells": [
  {
   "cell_type": "code",
   "execution_count": 20,
   "metadata": {},
   "outputs": [],
   "source": [
    "import cv2\n",
    "import os\n",
    "\n",
    "# 動画ファイルのパス\n",
    "video_path = './data/tracking/movie/farm2.mp4'\n",
    "\n",
    "# 画像を保存するディレクトリ\n",
    "output_dir = './data/tracking/farm2'\n",
    "os.makedirs(output_dir, exist_ok=True)\n",
    "\n",
    "# 動画ファイルを読み込む\n",
    "cap = cv2.VideoCapture(video_path)\n",
    "\n",
    "frame_index = 0\n",
    "start_frame = 500\n",
    "image_index = 1\n",
    "desired_size = (1024, 512)  # リサイズ後の解像度\n",
    "max_images = 100  # 保存する最大画像数\n",
    "frame_interval = 3  # 何フレームごとに画像を保存するか\n",
    "\n",
    "while True:\n",
    "    # フレームを読み込む\n",
    "    ret, frame = cap.read()\n",
    "    # フレームがない場合はループを抜ける\n",
    "    if not ret:\n",
    "        break\n",
    "    if frame_index < start_frame:\n",
    "        frame_index += 1\n",
    "        continue\n",
    "\n",
    "    # 3フレームごとに画像を保存\n",
    "    if frame_index % frame_interval == 0:\n",
    "        if image_index > max_images:\n",
    "            break  # 保存上限に達したら処理を終了\n",
    "\n",
    "        # フレームを指定した解像度にリサイズ\n",
    "        resized_frame = cv2.resize(frame, desired_size)\n",
    "\n",
    "        # 画像ファイル名を設定（例：001.png, 002.png）\n",
    "        filename = f'{image_index:03d}.png'\n",
    "        image_index += 1\n",
    "\n",
    "        # リサイズした画像を保存\n",
    "        cv2.imwrite(os.path.join(output_dir, filename), resized_frame)\n",
    "\n",
    "    frame_index += 1\n",
    "\n",
    "# 動画キャプチャを解放\n",
    "cap.release()"
   ]
  },
  {
   "cell_type": "code",
   "execution_count": null,
   "metadata": {},
   "outputs": [],
   "source": []
  }
 ],
 "metadata": {
  "kernelspec": {
   "display_name": "key",
   "language": "python",
   "name": "python3"
  },
  "language_info": {
   "codemirror_mode": {
    "name": "ipython",
    "version": 3
   },
   "file_extension": ".py",
   "mimetype": "text/x-python",
   "name": "python",
   "nbconvert_exporter": "python",
   "pygments_lexer": "ipython3",
   "version": "3.7.16"
  }
 },
 "nbformat": 4,
 "nbformat_minor": 2
}
