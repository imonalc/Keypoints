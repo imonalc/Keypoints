{
 "cells": [
  {
   "cell_type": "code",
   "execution_count": 3,
   "metadata": {},
   "outputs": [],
   "source": [
    "import cv2\n",
    "import os\n",
    "import argparse\n",
    "\n",
    "def show_frame_at(video_path, frame_number):\n",
    "    \"\"\"\n",
    "    特定のフレーム番号でビデオのフレームを表示します。\n",
    "    :param video_path: ビデオファイルへのパス\n",
    "    :param frame_number: 表示するフレームの番号\n",
    "    \"\"\"\n",
    "    # 動画ファイルを開く\n",
    "    video_capture = cv2.VideoCapture(video_path)\n",
    "    \n",
    "    # 特定のフレームに移動\n",
    "    video_capture.set(cv2.CAP_PROP_POS_FRAMES, frame_number)\n",
    "    \n",
    "    # フレームを読み込む\n",
    "    ret, frame = video_capture.read()\n",
    "    \n",
    "    if not ret:\n",
    "        print(\"フレームが見つかりません。\")\n",
    "        video_capture.release()\n",
    "        return\n",
    "    \n",
    "    # フレームを表示\n",
    "    resized_frame = cv2.resize(frame, (1024, 512))\n",
    "    cv2.imshow(\"Frame\", resized_frame)\n",
    "    cv2.waitKey(0)\n",
    "    cv2.destroyAllWindows()\n",
    "    \n",
    "    # メモリを解放し、ファイルを閉じる\n",
    "    video_capture.release()"
   ]
  },
  {
   "cell_type": "code",
   "execution_count": 4,
   "metadata": {},
   "outputs": [],
   "source": [
    "frame_number = 100  # 表示したいフレーム番号\n",
    "video_path = os.path.join(\"./data/Calibration\", \"pose1\" , \"O.MP4\")\n",
    "show_frame_at(video_path, frame_number)"
   ]
  },
  {
   "cell_type": "code",
   "execution_count": null,
   "metadata": {},
   "outputs": [],
   "source": []
  }
 ],
 "metadata": {
  "kernelspec": {
   "display_name": "Python 3",
   "language": "python",
   "name": "python3"
  },
  "language_info": {
   "codemirror_mode": {
    "name": "ipython",
    "version": 3
   },
   "file_extension": ".py",
   "mimetype": "text/x-python",
   "name": "python",
   "nbconvert_exporter": "python",
   "pygments_lexer": "ipython3",
   "version": "3.11.7"
  }
 },
 "nbformat": 4,
 "nbformat_minor": 2
}
