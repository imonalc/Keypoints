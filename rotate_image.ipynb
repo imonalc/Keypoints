{
 "cells": [
  {
   "cell_type": "code",
   "execution_count": 1,
   "metadata": {},
   "outputs": [],
   "source": [
    "import os\n",
    "import cv2\n",
    "import numpy as np"
   ]
  },
  {
   "cell_type": "code",
   "execution_count": 2,
   "metadata": {},
   "outputs": [],
   "source": [
    "def remap_image_1(image_path, output_path, rad=np.pi/4):\n",
    "    img = cv2.imread(image_path)\n",
    "    if img is None:\n",
    "        raise FileNotFoundError(f\"The specified image file at {image_path} could not be loaded.\")\n",
    "    \n",
    "    h, w = img.shape[:2]\n",
    "    w_half = int(w / 2)\n",
    "    h_half = int(h / 2)\n",
    "\n",
    "    phi, theta = np.meshgrid(np.linspace(-np.pi, np.pi, w_half*2),\n",
    "                             np.linspace(-np.pi/2, np.pi/2, h_half*2))\n",
    "\n",
    "    x = np.cos(theta) * np.cos(phi)\n",
    "    y = np.cos(theta) * np.sin(phi)\n",
    "    z = np.sin(theta)\n",
    "\n",
    "    # ピッチ周りに π/2 だけ回転\n",
    "    rot = rad\n",
    "    xx = x * np.cos(rot) - y * np.sin(rot)\n",
    "    yy = x * np.sin(rot) + y * np.cos(rot)\n",
    "    zz = z\n",
    "\n",
    "    theta = np.arcsin(zz)\n",
    "    phi = np.arctan2(yy, xx)\n",
    "\n",
    "    Y = 2 * theta / np.pi * h_half + h_half\n",
    "    X = phi / np.pi * w_half + w_half\n",
    "\n",
    "    out = cv2.remap(img, X.astype(np.float32), Y.astype(np.float32), cv2.INTER_LINEAR, borderMode=cv2.BORDER_WRAP)\n",
    "    cv2.imwrite(output_path, out)"
   ]
  },
  {
   "cell_type": "code",
   "execution_count": 3,
   "metadata": {},
   "outputs": [],
   "source": [
    "def remap_image_2(image_path, output_path, rad=np.pi/4):\n",
    "    img = cv2.imread(image_path)\n",
    "    if img is None:\n",
    "        raise FileNotFoundError(f\"The specified image file at {image_path} could not be loaded.\")\n",
    "    \n",
    "    h, w = img.shape[:2]\n",
    "    w_half = int(w / 2)\n",
    "    h_half = int(h / 2)\n",
    "\n",
    "    phi, theta = np.meshgrid(np.linspace(-np.pi, np.pi, w_half*2),\n",
    "                             np.linspace(-np.pi/2, np.pi/2, h_half*2))\n",
    "\n",
    "    x = np.cos(theta) * np.cos(phi)\n",
    "    y = np.cos(theta) * np.sin(phi)\n",
    "    z = np.sin(theta)\n",
    "\n",
    "    rot = rad\n",
    "    xx = x * np.cos(rot) + z * np.sin(rot)\n",
    "    yy = y\n",
    "    zz = -x * np.sin(rot) + z * np.cos(rot)\n",
    "    \n",
    "    theta = np.arcsin(zz)\n",
    "    phi = np.arctan2(yy, xx)\n",
    "\n",
    "    Y = 2 * theta / np.pi * h_half + h_half\n",
    "    X = phi / np.pi * w_half + w_half\n",
    "\n",
    "    out = cv2.remap(img, X.astype(np.float32), Y.astype(np.float32), cv2.INTER_LINEAR, borderMode=cv2.BORDER_WRAP)\n",
    "    cv2.imwrite(output_path, out)"
   ]
  },
  {
   "cell_type": "code",
   "execution_count": 4,
   "metadata": {},
   "outputs": [],
   "source": [
    "def remap_image_3(image_path, output_path, rad=np.pi/4):\n",
    "    img = cv2.imread(image_path)\n",
    "    if img is None:\n",
    "        raise FileNotFoundError(f\"The specified image file at {image_path} could not be loaded.\")\n",
    "    \n",
    "    h, w = img.shape[:2]\n",
    "    w_half = int(w / 2)\n",
    "    h_half = int(h / 2)\n",
    "\n",
    "    phi, theta = np.meshgrid(np.linspace(-np.pi, np.pi, w_half*2),\n",
    "                             np.linspace(-np.pi/2, np.pi/2, h_half*2))\n",
    "\n",
    "    x = np.cos(theta) * np.cos(phi)\n",
    "    y = np.cos(theta) * np.sin(phi)\n",
    "    z = np.sin(theta)\n",
    "\n",
    "    rot = rad\n",
    "    xx = x\n",
    "    yy = y * np.cos(rot) - z * np.sin(rot)\n",
    "    zz = y * np.sin(rot) + z * np.cos(rot)\n",
    "    theta = np.arcsin(zz)\n",
    "    phi = np.arctan2(yy, xx)\n",
    "\n",
    "    Y = 2 * theta / np.pi * h_half + h_half\n",
    "    X = phi / np.pi * w_half + w_half\n",
    "\n",
    "    out = cv2.remap(img, X.astype(np.float32), Y.astype(np.float32), cv2.INTER_LINEAR, borderMode=cv2.BORDER_WRAP)\n",
    "    cv2.imwrite(output_path, out)"
   ]
  },
  {
   "cell_type": "code",
   "execution_count": 11,
   "metadata": {},
   "outputs": [],
   "source": [
    "def rotate_yaw(x, y, z, rot):\n",
    "    xx = x * np.cos(rot) - y * np.sin(rot)\n",
    "    yy = x * np.sin(rot) + y * np.cos(rot)\n",
    "    zz = z\n",
    "\n",
    "    return xx, yy, zz\n",
    "\n",
    "def rotate_roll(x, y, z, rot):\n",
    "    xx = x\n",
    "    yy = y * np.cos(rot) - z * np.sin(rot)\n",
    "    zz = y * np.sin(rot) + z * np.cos(rot)\n",
    "\n",
    "    return xx, yy, zz\n",
    "\n",
    "def rotate_pitch(x, y, z, rot):\n",
    "    xx = x * np.cos(rot) + z * np.sin(rot)\n",
    "    yy = y\n",
    "    zz = -x * np.sin(rot) + z * np.cos(rot)\n",
    "\n",
    "    return xx, yy, zz"
   ]
  },
  {
   "cell_type": "code",
   "execution_count": 12,
   "metadata": {},
   "outputs": [],
   "source": [
    "def remap_image_proposed(image_path, output_path, rad=np.pi/2):\n",
    "    img = cv2.imread(image_path)\n",
    "    if img is None:\n",
    "        raise FileNotFoundError(f\"The specified image file at {image_path} could not be loaded.\")\n",
    "    \n",
    "    h, w = img.shape[:2]\n",
    "    w_half = int(w / 2)\n",
    "    h_half = int(h / 2)\n",
    "\n",
    "    phi, theta = np.meshgrid(np.linspace(-np.pi, np.pi, w_half*2),\n",
    "                             np.linspace(-np.pi/2, np.pi/2, h_half*2))\n",
    "\n",
    "    x = np.cos(theta) * np.cos(phi)\n",
    "    y = np.cos(theta) * np.sin(phi)\n",
    "    z = np.sin(theta)\n",
    "\n",
    "    xx, yy, zz = rotate_yaw(x, y, z, rad)\n",
    "    xx, yy, zz = rotate_pitch(xx, yy, zz, rad)\n",
    "    xx, yy, zz = rotate_yaw(xx, yy, zz, rad)\n",
    "\n",
    "    theta = np.arcsin(zz)\n",
    "    phi = np.arctan2(yy, xx)\n",
    "\n",
    "    Y = 2 * theta / np.pi * h_half + h_half\n",
    "    X = phi / np.pi * w_half + w_half\n",
    "\n",
    "    out = cv2.remap(img, X.astype(np.float32), Y.astype(np.float32), cv2.INTER_LINEAR, borderMode=cv2.BORDER_WRAP)\n",
    "    cv2.imwrite(output_path, out)\n",
    "    \n",
    "remap_image_proposed('./data/2.png', 'proposed.png', np.pi/2)"
   ]
  },
  {
   "cell_type": "code",
   "execution_count": null,
   "metadata": {},
   "outputs": [],
   "source": []
  },
  {
   "cell_type": "code",
   "execution_count": null,
   "metadata": {},
   "outputs": [],
   "source": []
  },
  {
   "cell_type": "code",
   "execution_count": null,
   "metadata": {},
   "outputs": [],
   "source": []
  },
  {
   "cell_type": "code",
   "execution_count": null,
   "metadata": {},
   "outputs": [],
   "source": []
  },
  {
   "cell_type": "code",
   "execution_count": 7,
   "metadata": {},
   "outputs": [],
   "source": [
    "remap_image_1('./data/2.png', 'a.png', np.pi/2)\n",
    "remap_image_2('./data/2.png', 'b.png', np.pi/2)\n",
    "remap_image_3('./data/2.png', 'c.png', np.pi/2)"
   ]
  },
  {
   "cell_type": "code",
   "execution_count": 8,
   "metadata": {},
   "outputs": [],
   "source": [
    "remap_image_2('a.png', 'ab.png', np.pi/2)"
   ]
  },
  {
   "cell_type": "code",
   "execution_count": 52,
   "metadata": {},
   "outputs": [],
   "source": [
    "remap_image_1('ab.png', 'aba.png', np.pi/2)"
   ]
  }
 ],
 "metadata": {
  "kernelspec": {
   "display_name": "Python 3",
   "language": "python",
   "name": "python3"
  },
  "language_info": {
   "codemirror_mode": {
    "name": "ipython",
    "version": 3
   },
   "file_extension": ".py",
   "mimetype": "text/x-python",
   "name": "python",
   "nbconvert_exporter": "python",
   "pygments_lexer": "ipython3",
   "version": "3.11.9"
  }
 },
 "nbformat": 4,
 "nbformat_minor": 2
}
