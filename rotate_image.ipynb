{
 "cells": [
  {
   "cell_type": "code",
   "execution_count": 16,
   "metadata": {},
   "outputs": [],
   "source": [
    "import os\n",
    "import cv2\n",
    "import numpy as np\n",
    "import time"
   ]
  },
  {
   "cell_type": "code",
   "execution_count": 17,
   "metadata": {},
   "outputs": [],
   "source": [
    "def remap_image_1(image_path, output_path, rad=np.pi/4):\n",
    "    img = cv2.imread(image_path)\n",
    "    if img is None:\n",
    "        raise FileNotFoundError(f\"The specified image file at {image_path} could not be loaded.\")\n",
    "    \n",
    "    h, w = img.shape[:2]\n",
    "    w_half = int(w / 2)\n",
    "    h_half = int(h / 2)\n",
    "\n",
    "    phi, theta = np.meshgrid(np.linspace(-np.pi, np.pi, w_half*2),\n",
    "                             np.linspace(-np.pi/2, np.pi/2, h_half*2))\n",
    "\n",
    "    x = np.cos(theta) * np.cos(phi)\n",
    "    y = np.cos(theta) * np.sin(phi)\n",
    "    z = np.sin(theta)\n",
    "\n",
    "    # ピッチ周りに π/2 だけ回転\n",
    "    rot = rad\n",
    "    xx = x * np.cos(rot) - y * np.sin(rot)\n",
    "    yy = x * np.sin(rot) + y * np.cos(rot)\n",
    "    zz = z\n",
    "\n",
    "    theta = np.arcsin(zz)\n",
    "    phi = np.arctan2(yy, xx)\n",
    "\n",
    "    Y = 2 * theta / np.pi * h_half + h_half\n",
    "    X = phi / np.pi * w_half + w_half\n",
    "\n",
    "    out = cv2.remap(img, X.astype(np.float32), Y.astype(np.float32), cv2.INTER_LINEAR, borderMode=cv2.BORDER_WRAP)\n",
    "    cv2.imwrite(output_path, out)"
   ]
  },
  {
   "cell_type": "code",
   "execution_count": 18,
   "metadata": {},
   "outputs": [],
   "source": [
    "def remap_image_2(image_path, output_path, rad=np.pi/4):\n",
    "    img = cv2.imread(image_path)\n",
    "    if img is None:\n",
    "        raise FileNotFoundError(f\"The specified image file at {image_path} could not be loaded.\")\n",
    "    \n",
    "    h, w = img.shape[:2]\n",
    "    w_half = int(w / 2)\n",
    "    h_half = int(h / 2)\n",
    "\n",
    "    phi, theta = np.meshgrid(np.linspace(-np.pi, np.pi, w_half*2),\n",
    "                             np.linspace(-np.pi/2, np.pi/2, h_half*2))\n",
    "\n",
    "    x = np.cos(theta) * np.cos(phi)\n",
    "    y = np.cos(theta) * np.sin(phi)\n",
    "    z = np.sin(theta)\n",
    "\n",
    "    rot = rad\n",
    "    xx = x * np.cos(rot) + z * np.sin(rot)\n",
    "    yy = y\n",
    "    zz = -x * np.sin(rot) + z * np.cos(rot)\n",
    "    \n",
    "    theta = np.arcsin(zz)\n",
    "    phi = np.arctan2(yy, xx)\n",
    "\n",
    "    Y = 2 * theta / np.pi * h_half + h_half\n",
    "    X = phi / np.pi * w_half + w_half\n",
    "\n",
    "    out = cv2.remap(img, X.astype(np.float32), Y.astype(np.float32), cv2.INTER_LINEAR, borderMode=cv2.BORDER_WRAP)\n",
    "    cv2.imwrite(output_path, out)"
   ]
  },
  {
   "cell_type": "code",
   "execution_count": 19,
   "metadata": {},
   "outputs": [],
   "source": [
    "def remap_image_3(image_path, output_path, rad=np.pi/4):\n",
    "    img = cv2.imread(image_path)\n",
    "    if img is None:\n",
    "        raise FileNotFoundError(f\"The specified image file at {image_path} could not be loaded.\")\n",
    "    \n",
    "    h, w = img.shape[:2]\n",
    "    w_half = int(w / 2)\n",
    "    h_half = int(h / 2)\n",
    "\n",
    "    phi, theta = np.meshgrid(np.linspace(-np.pi, np.pi, w_half*2),\n",
    "                             np.linspace(-np.pi/2, np.pi/2, h_half*2))\n",
    "\n",
    "    x = np.cos(theta) * np.cos(phi)\n",
    "    y = np.cos(theta) * np.sin(phi)\n",
    "    z = np.sin(theta)\n",
    "\n",
    "    rot = rad\n",
    "    xx = x\n",
    "    yy = y * np.cos(rot) - z * np.sin(rot)\n",
    "    zz = y * np.sin(rot) + z * np.cos(rot)\n",
    "    theta = np.arcsin(zz)\n",
    "    phi = np.arctan2(yy, xx)\n",
    "\n",
    "    Y = 2 * theta / np.pi * h_half + h_half\n",
    "    X = phi / np.pi * w_half + w_half\n",
    "\n",
    "    out = cv2.remap(img, X.astype(np.float32), Y.astype(np.float32), cv2.INTER_LINEAR, borderMode=cv2.BORDER_WRAP)\n",
    "    cv2.imwrite(output_path, out)"
   ]
  },
  {
   "cell_type": "code",
   "execution_count": 42,
   "metadata": {},
   "outputs": [],
   "source": [
    "def rotate_yaw(x, y, z, rot):\n",
    "    xx = x * np.cos(rot) - y * np.sin(rot)\n",
    "    yy = x * np.sin(rot) + y * np.cos(rot)\n",
    "    zz = z\n",
    "\n",
    "    return xx, yy, zz\n",
    "\n",
    "def rotate_roll(x, y, z, rot):\n",
    "    xx = x\n",
    "    yy = y * np.cos(rot) - z * np.sin(rot)\n",
    "    zz = y * np.sin(rot) + z * np.cos(rot)\n",
    "\n",
    "    return xx, yy, zz\n",
    "\n",
    "def rotate_pitch(x, y, z, rot):\n",
    "    xx = x * np.cos(rot) + z * np.sin(rot)\n",
    "    yy = y\n",
    "    zz = -x * np.sin(rot) + z * np.cos(rot)\n",
    "\n",
    "    return xx, yy, zz"
   ]
  },
  {
   "cell_type": "code",
   "execution_count": 43,
   "metadata": {},
   "outputs": [
    {
     "name": "stdout",
     "output_type": "stream",
     "text": [
      "0.0110201999777928\n"
     ]
    }
   ],
   "source": [
    "def remap_image_proposed(image_path, output_path, rad=np.pi/2):\n",
    "    t_b = time.perf_counter()\n",
    "    img = cv2.imread(image_path)\n",
    "    if img is None:\n",
    "        raise FileNotFoundError(f\"The specified image file at {image_path} could not be loaded.\")\n",
    "    \n",
    "    h, w = img.shape[:2]\n",
    "    w_half = int(w / 2)\n",
    "    h_half = int(h / 2)\n",
    "\n",
    "    phi, theta = np.meshgrid(np.linspace(-np.pi, np.pi, w_half*2),\n",
    "                             np.linspace(-np.pi/2, np.pi/2, h_half*2))\n",
    "\n",
    "    x = np.cos(theta) * np.cos(phi)\n",
    "    y = np.cos(theta) * np.sin(phi)\n",
    "    z = np.sin(theta)\n",
    "\n",
    "    xx, yy, zz = rotate_yaw(x, y, z, rad)\n",
    "    xx, yy, zz = rotate_pitch(xx, yy, zz, rad)\n",
    "    xx, yy, zz = rotate_yaw(xx, yy, zz, rad)\n",
    "\n",
    "    theta = np.arcsin(zz)\n",
    "    phi = np.arctan2(yy, xx)\n",
    "\n",
    "    Y = 2 * theta / np.pi * h_half + h_half\n",
    "    X = phi / np.pi * w_half + w_half\n",
    "\n",
    "    t_b = time.perf_counter()\n",
    "    img = cv2.imread(image_path)\n",
    "    out = cv2.remap(img, X.astype(np.float32), Y.astype(np.float32), cv2.INTER_LINEAR, borderMode=cv2.BORDER_WRAP)\n",
    "    t_a = time.perf_counter()\n",
    "    print(t_a - t_b)\n",
    "    cv2.imwrite(output_path, out)\n",
    "    \n",
    "remap_image_proposed('./data/2.png', 'proposed.png', np.pi/2)"
   ]
  },
  {
   "cell_type": "code",
   "execution_count": 46,
   "metadata": {},
   "outputs": [],
   "source": [
    "def make_image_map(img_hw, rad=np.pi/2):\n",
    "    (h, w) = img_hw\n",
    "    w_half = int(w / 2)\n",
    "    h_half = int(h / 2)\n",
    "\n",
    "    phi, theta = np.meshgrid(np.linspace(-np.pi, np.pi, w_half*2),\n",
    "                             np.linspace(-np.pi/2, np.pi/2, h_half*2))\n",
    "\n",
    "    x = np.cos(theta) * np.cos(phi)\n",
    "    y = np.cos(theta) * np.sin(phi)\n",
    "    z = np.sin(theta)\n",
    "\n",
    "    xx, yy, zz = rotate_yaw(x, y, z, rad)\n",
    "    xx, yy, zz = rotate_pitch(xx, yy, zz, rad)\n",
    "    xx, yy, zz = rotate_yaw(xx, yy, zz, rad)\n",
    "\n",
    "    theta = np.arcsin(zz)\n",
    "    phi = np.arctan2(yy, xx)\n",
    "\n",
    "    Y_remap = 2 * theta / np.pi * h_half + h_half\n",
    "    X_remap = phi / np.pi * w_half + w_half\n",
    "\n",
    "    return Y_remap, X_remap\n",
    "\n",
    "\n",
    "img_sample = cv2.imread('./data/2.png')\n",
    "img_hw = img_sample.shape[:2]\n",
    "Y_remap, X_remap = make_image_map(img_hw)"
   ]
  },
  {
   "cell_type": "code",
   "execution_count": 47,
   "metadata": {},
   "outputs": [
    {
     "name": "stdout",
     "output_type": "stream",
     "text": [
      "0.0023044999688863754\n"
     ]
    }
   ],
   "source": [
    "def remap_image(image_path, output_path, YX_remap):\n",
    "    (Y_remap, X_remap) = YX_remap\n",
    "    img = cv2.imread(image_path)\n",
    "    t_b = time.perf_counter()\n",
    "    out = cv2.remap(img, X_remap.astype(np.float32), Y_remap.astype(np.float32), \n",
    "                    cv2.INTER_LINEAR, borderMode=cv2.BORDER_WRAP)\n",
    "    t_a = time.perf_counter()\n",
    "    ret = t_a - t_b\n",
    "    cv2.imwrite(output_path, out)\n",
    "\n",
    "    return ret\n",
    "    \n",
    "    \n",
    "t = remap_image('./data/2.png', 'proposed2.png', (Y_remap, X_remap))\n",
    "print(t)"
   ]
  },
  {
   "cell_type": "code",
   "execution_count": null,
   "metadata": {},
   "outputs": [],
   "source": []
  },
  {
   "cell_type": "code",
   "execution_count": 23,
   "metadata": {},
   "outputs": [
    {
     "name": "stdout",
     "output_type": "stream",
     "text": [
      "0.010976299992762506\n"
     ]
    }
   ],
   "source": [
    "def remap_image_proposed2(image_path, output_path, rad=np.pi/2):\n",
    "    img = cv2.imread(image_path)\n",
    "    t_b = time.perf_counter()\n",
    "    if img is None:\n",
    "        raise FileNotFoundError(f\"The specified image file at {image_path} could not be loaded.\")\n",
    "    \n",
    "    h, w = img.shape[:2]\n",
    "    w_half = int(w / 2)\n",
    "    h_half = int(h / 2)\n",
    "\n",
    "    phi, theta = np.meshgrid(np.linspace(-np.pi, np.pi, w_half*2),\n",
    "                             np.linspace(-np.pi/2, np.pi/2, h_half*2))\n",
    "\n",
    "    x = np.cos(theta) * np.cos(phi)\n",
    "    y = np.cos(theta) * np.sin(phi)\n",
    "    z = np.sin(theta)\n",
    "\n",
    "    R_combined = np.array([\n",
    "        [-1, 0, 0],\n",
    "        [0, 0, 1],\n",
    "        [0, 1, 0]\n",
    "    ])\n",
    "\n",
    "    # Apply the rotation matrix\n",
    "    xyz = np.stack([x, y, z], axis=-1)\n",
    "    xyz_rotated = np.einsum('ij, ...j', R_combined, xyz)\n",
    "\n",
    "    # Convert back to spherical coordinates\n",
    "    xx, yy, zz = xyz_rotated[..., 0], xyz_rotated[..., 1], xyz_rotated[..., 2]\n",
    "\n",
    "    theta = np.arcsin(zz)\n",
    "    phi = np.arctan2(yy, xx)\n",
    "\n",
    "    Y = 2 * theta / np.pi * h_half + h_half\n",
    "    X = phi / np.pi * w_half + w_half\n",
    "\n",
    "    t_b = time.perf_counter()\n",
    "    img = cv2.imread(image_path)\n",
    "    out = cv2.remap(img, X.astype(np.float32), Y.astype(np.float32), cv2.INTER_LINEAR, borderMode=cv2.BORDER_WRAP)\n",
    "    t_a = time.perf_counter()\n",
    "    print(t_a - t_b)\n",
    "    cv2.imwrite(output_path, out)\n",
    "    \n",
    "remap_image_proposed2('./data/2.png', 'proposed2.png', np.pi/2)"
   ]
  },
  {
   "cell_type": "code",
   "execution_count": null,
   "metadata": {},
   "outputs": [],
   "source": []
  },
  {
   "cell_type": "code",
   "execution_count": null,
   "metadata": {},
   "outputs": [],
   "source": []
  },
  {
   "cell_type": "code",
   "execution_count": 7,
   "metadata": {},
   "outputs": [],
   "source": [
    "remap_image_1('./data/2.png', 'a.png', np.pi/2)\n",
    "remap_image_2('./data/2.png', 'b.png', np.pi/2)\n",
    "remap_image_3('./data/2.png', 'c.png', np.pi/2)"
   ]
  },
  {
   "cell_type": "code",
   "execution_count": 8,
   "metadata": {},
   "outputs": [],
   "source": [
    "remap_image_2('a.png', 'ab.png', np.pi/2)"
   ]
  },
  {
   "cell_type": "code",
   "execution_count": 52,
   "metadata": {},
   "outputs": [],
   "source": [
    "remap_image_1('ab.png', 'aba.png', np.pi/2)"
   ]
  }
 ],
 "metadata": {
  "kernelspec": {
   "display_name": "Python 3",
   "language": "python",
   "name": "python3"
  },
  "language_info": {
   "codemirror_mode": {
    "name": "ipython",
    "version": 3
   },
   "file_extension": ".py",
   "mimetype": "text/x-python",
   "name": "python",
   "nbconvert_exporter": "python",
   "pygments_lexer": "ipython3",
   "version": "3.11.9"
  }
 },
 "nbformat": 4,
 "nbformat_minor": 2
}
